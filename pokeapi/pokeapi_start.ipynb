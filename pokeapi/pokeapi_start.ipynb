{
 "cells": [
  {
   "cell_type": "code",
   "execution_count": null,
   "metadata": {},
   "outputs": [],
   "source": [
    "###PokeAPI Start###\n",
    "\n",
    "#Arquivo inicial para se familiarizar com a API do PokeAPI, como por exemplo, se autenticar, realizar requests e trazer o resultado.\n",
    "\n",
    "#Documentação: https://pokeapi.co/docs/v2#pokemon"
   ]
  },
  {
   "cell_type": "code",
   "execution_count": 2,
   "metadata": {},
   "outputs": [],
   "source": [
    "#Importando as bibliotecas necessárias para esse\n",
    "import pandas as pd\n",
    "import requests\n",
    "from flatten_json import flatten"
   ]
  },
  {
   "cell_type": "code",
   "execution_count": 3,
   "metadata": {},
   "outputs": [],
   "source": [
    "#endpoints\n",
    "ep_pokemon = \"https://pokeapi.co/api/v2/pokemon/\""
   ]
  },
  {
   "cell_type": "code",
   "execution_count": 5,
   "metadata": {},
   "outputs": [],
   "source": [
    "#Primeira requqisição\n",
    "#Trazendo bulbasaur\n",
    "pokenum = 1\n",
    "\n",
    "#Requisição\n",
    "request = requests.get(f\"{ep_pokemon}{pokenum}\")"
   ]
  },
  {
   "cell_type": "code",
   "execution_count": 6,
   "metadata": {},
   "outputs": [
    {
     "name": "stdout",
     "output_type": "stream",
     "text": [
      "bulbasaur\n",
      "1\n",
      "7\n",
      "69\n"
     ]
    }
   ],
   "source": [
    "#A requisição traz diversos atributos, como habilidades, jogos presentes, status e experiencia. \n",
    "#Para essa segunda requisição, vamos trazer nome, tipo, id, altura e peso.\n",
    "\n",
    "#nome -> name\n",
    "#tipo -> types\n",
    "#id -> id\n",
    "#altura -> height\n",
    "#peso -> weight\n",
    "\n",
    "name = request.json()[\"name\"]\n",
    "id = request.json()[\"id\"]\n",
    "altura = request.json()[\"height\"]\n",
    "peso = request.json()[\"weight\"]\n",
    "\n",
    "print(name, id, altura, peso, sep=\"\\n\")"
   ]
  },
  {
   "cell_type": "code",
   "execution_count": 77,
   "metadata": {},
   "outputs": [
    {
     "name": "stdout",
     "output_type": "stream",
     "text": [
      "['grass', 'poison']\n"
     ]
    }
   ],
   "source": [
    "#Para trazer o tipo é um pouco mais complicado. Como as informações estão aninhadas dentro de um atributo, no caso, types, é preciso pegar cada ocorrência.\n",
    "list = []\n",
    "for num_types in range(len(types)): #len(types) -> ver a qquantidade de types vindo na requisição para poder fazer o loop\n",
    "     list.append(\n",
    "          request.json()[\"types\"][num_types][\"type\"][\"name\"]\n",
    "     )\n",
    "print(list)"
   ]
  },
  {
   "cell_type": "code",
   "execution_count": 80,
   "metadata": {},
   "outputs": [
    {
     "data": {
      "text/html": [
       "<div>\n",
       "<style scoped>\n",
       "    .dataframe tbody tr th:only-of-type {\n",
       "        vertical-align: middle;\n",
       "    }\n",
       "\n",
       "    .dataframe tbody tr th {\n",
       "        vertical-align: top;\n",
       "    }\n",
       "\n",
       "    .dataframe thead th {\n",
       "        text-align: right;\n",
       "    }\n",
       "</style>\n",
       "<table border=\"1\" class=\"dataframe\">\n",
       "  <thead>\n",
       "    <tr style=\"text-align: right;\">\n",
       "      <th></th>\n",
       "      <th>id</th>\n",
       "      <th>nome</th>\n",
       "      <th>tipos</th>\n",
       "      <th>altura</th>\n",
       "      <th>peso</th>\n",
       "    </tr>\n",
       "  </thead>\n",
       "  <tbody>\n",
       "    <tr>\n",
       "      <th>0</th>\n",
       "      <td>1</td>\n",
       "      <td>bulbasaur</td>\n",
       "      <td>[grass, poison]</td>\n",
       "      <td>7</td>\n",
       "      <td>69</td>\n",
       "    </tr>\n",
       "  </tbody>\n",
       "</table>\n",
       "</div>"
      ],
      "text/plain": [
       "   id       nome            tipos  altura  peso\n",
       "0   1  bulbasaur  [grass, poison]       7    69"
      ]
     },
     "execution_count": 80,
     "metadata": {},
     "output_type": "execute_result"
    }
   ],
   "source": [
    "#Criando o dataframe com os atributos selecionados do bulbasaur\n",
    "\n",
    "list_final = [id, name, list, altura, peso] #transformando a lista em uma linha no futuro dataframe\n",
    "poke_table = pd.DataFrame([list_final], columns= [\"id\", \"nome\", \"tipos\", \"altura\", \"peso\"])\n",
    "poke_table"
   ]
  }
 ],
 "metadata": {
  "kernelspec": {
   "display_name": "Python 3",
   "language": "python",
   "name": "python3"
  },
  "language_info": {
   "codemirror_mode": {
    "name": "ipython",
    "version": 3
   },
   "file_extension": ".py",
   "mimetype": "text/x-python",
   "name": "python",
   "nbconvert_exporter": "python",
   "pygments_lexer": "ipython3",
   "version": "3.11.6"
  }
 },
 "nbformat": 4,
 "nbformat_minor": 2
}
